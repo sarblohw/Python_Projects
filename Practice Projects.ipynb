{
 "cells": [
  {
   "cell_type": "markdown",
   "metadata": {},
   "source": [
    "### Word count\n",
    "_____________\n",
    "\n",
    "> Example:\n",
    "Prompt: what's on your mind today?  \n",
    "Input: well, it's just a day for me to be an expert in coding  \n",
    "Output: oh nice, you just told me what's on your mind in 13 words!  \n",
    "______________"
   ]
  },
  {
   "cell_type": "code",
   "execution_count": null,
   "metadata": {},
   "outputs": [],
   "source": [
    "# Solution:\n",
    "\n",
    "user_input = input(\"What's on your mind today?\\n\")\n",
    "\n",
    "print(f\"Oh nice, you just told me what's on your mind in {len(list(user_input.split(' ')))} words!\")"
   ]
  },
  {
   "cell_type": "markdown",
   "metadata": {},
   "source": [
    "### Odd Even Game\n",
    "_____________\n",
    "\n",
    "> Example:\n",
    "Prompt: What number are you thinking?  \n",
    "Input: 25  \n",
    "Output: That's an odd number! Have another?  \n",
    "______________"
   ]
  },
  {
   "cell_type": "code",
   "execution_count": null,
   "metadata": {},
   "outputs": [],
   "source": [
    "# Solution:\n",
    "\n",
    "def game():\n",
    "\n",
    "\tname = input(\"Hello Player! Share your name...\\n\")\n",
    "\n",
    "\tdef odd_even():\n",
    "\n",
    "\t\tnum = int(input(\"What number are you thinking of?\\n\"))\n",
    "\n",
    "\t\tif num % 2 == 0:\n",
    "\t\t\tprint(f\"You thought of {num}. That's an even number!\")\n",
    "\t\t\tresponse = input(\"Have Another?\\n(Type Yes/No)\\n\").lower()\n",
    "\n",
    "\t\telse:\n",
    "\t\t\tprint(f\"You thought of {num}. That's an odd number! Have another?\")\n",
    "\t\t\tresponse = input(\"Have Another?\\n(Type Yes/No)\\n\").lower()\n",
    "\n",
    "\t\tif response == \"yes\":\n",
    "\t\t\todd_even()\n",
    "\n",
    "\t\telse:\n",
    "\t\t\tprint(f\"Thanks for playing {name[0].upper() + name[1:].lower()}!\")\n",
    "\n",
    "\todd_even()\n",
    "\n",
    "game()"
   ]
  },
  {
   "cell_type": "markdown",
   "metadata": {},
   "source": [
    "### Tic Tac Toe\n",
    "_____________\n",
    "\n",
    "> Non GUI tic tac toe\n",
    "______________"
   ]
  },
  {
   "cell_type": "code",
   "execution_count": null,
   "metadata": {},
   "outputs": [],
   "source": [
    "board = [\n",
    "    \"-\", \"-\", \"-\",\n",
    "    \"-\", \"-\", \"-\",\n",
    "    \"-\", \"-\", \"-\"\n",
    "]\n",
    "\n",
    "\n",
    "def display_board():\n",
    "    print(board[0] + \"|\" + board[1] + \"|\" + board[2])\n",
    "    print(board[3] + \"|\" + board[4] + \"|\" + board[5])\n",
    "    print(board[6] + \"|\" + board[7] + \"|\" + board[8])\n",
    "\n",
    "\n",
    "def play_game():\n",
    "    i = 1\n",
    "    display_board()\n",
    "    while \"-\" in board:\n",
    "        if i % 2 != 0:\n",
    "            turn = 'X'\n",
    "            user_in = input(f\"You are {turn}. Select position from 1 - 9: \")\n",
    "            position = int(user_in) - 1\n",
    "            board[position] = turn\n",
    "            display_board()\n",
    "            i += 1\n",
    "            if (\n",
    "                    (board[0] == turn and board[3] == turn and board[6] == turn) or\n",
    "                    (board[1] == turn and board[4] == turn and board[7] == turn) or\n",
    "                    (board[2] == turn and board[5] == turn and board[8] == turn) or\n",
    "                    (board[0] == turn and board[1] == turn and board[2] == turn) or\n",
    "                    (board[3] == turn and board[4] == turn and board[5] == turn) or\n",
    "                    (board[6] == turn and board[7] == turn and board[8] == turn) or\n",
    "                    (board[0] == turn and board[4] == turn and board[8] == turn) or\n",
    "                    (board[2] == turn and board[4] == turn and board[6] == turn)\n",
    "            ):\n",
    "                print(f\"{turn} WINS!\")\n",
    "                break\n",
    "            else:\n",
    "                pass\n",
    "        else:\n",
    "            turn = 'O'\n",
    "            user_in = input(f\"You are {turn}. Select position from 1 - 9: \")\n",
    "            position = int(user_in) - 1\n",
    "            board[position] = turn\n",
    "            display_board()\n",
    "            i += 1\n",
    "            if (\n",
    "                    (board[0] == turn and board[3] == turn and board[6] == turn) or\n",
    "                    (board[1] == turn and board[4] == turn and board[7] == turn) or\n",
    "                    (board[2] == turn and board[5] == turn and board[8] == turn) or\n",
    "                    (board[0] == turn and board[1] == turn and board[2] == turn) or\n",
    "                    (board[3] == turn and board[4] == turn and board[5] == turn) or\n",
    "                    (board[6] == turn and board[7] == turn and board[8] == turn) or\n",
    "                    (board[0] == turn and board[4] == turn and board[8] == turn) or\n",
    "                    (board[2] == turn and board[4] == turn and board[6] == turn)\n",
    "            ):\n",
    "                print(f\"{turn} WINS!\")\n",
    "                break\n",
    "            else:\n",
    "                pass\n",
    "\n",
    "\n",
    "play_game()"
   ]
  }
 ],
 "metadata": {
  "kernelspec": {
   "display_name": "Python 3",
   "language": "python",
   "name": "python3"
  },
  "language_info": {
   "codemirror_mode": {
    "name": "ipython",
    "version": 3
   },
   "file_extension": ".py",
   "mimetype": "text/x-python",
   "name": "python",
   "nbconvert_exporter": "python",
   "pygments_lexer": "ipython3",
   "version": "3.8.5"
  }
 },
 "nbformat": 4,
 "nbformat_minor": 4
}
